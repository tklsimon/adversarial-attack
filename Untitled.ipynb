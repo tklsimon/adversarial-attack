{
 "cells": [
  {
   "cell_type": "code",
   "execution_count": 3,
   "id": "f1c6b915-3548-40fc-ac6f-997a9dca1367",
   "metadata": {},
   "outputs": [
    {
     "name": "stdout",
     "output_type": "stream",
     "text": [
      "Requirement already satisfied: numpy in c:\\users\\simon\\appdata\\local\\programs\\python\\python311\\lib\\site-packages (1.25.2)\n"
     ]
    }
   ],
   "source": [
    "! pip install torchvision"
   ]
  },
  {
   "cell_type": "code",
   "execution_count": 1,
   "id": "27f1f0e5-e3dd-41a4-bdf6-1fb8149b2de0",
   "metadata": {},
   "outputs": [
    {
     "ename": "ModuleNotFoundError",
     "evalue": "No module named 'torchvision'",
     "output_type": "error",
     "traceback": [
      "\u001b[1;31m---------------------------------------------------------------------------\u001b[0m",
      "\u001b[1;31mModuleNotFoundError\u001b[0m                       Traceback (most recent call last)",
      "Cell \u001b[1;32mIn[1], line 5\u001b[0m\n\u001b[0;32m      2\u001b[0m \u001b[38;5;28;01mfrom\u001b[39;00m \u001b[38;5;21;01mtorch\u001b[39;00m\u001b[38;5;21;01m.\u001b[39;00m\u001b[38;5;21;01mnn\u001b[39;00m \u001b[38;5;28;01mimport\u001b[39;00m Module\n\u001b[0;32m      3\u001b[0m \u001b[38;5;28;01mfrom\u001b[39;00m \u001b[38;5;21;01mtorch\u001b[39;00m\u001b[38;5;21;01m.\u001b[39;00m\u001b[38;5;21;01mutils\u001b[39;00m\u001b[38;5;21;01m.\u001b[39;00m\u001b[38;5;21;01mdata\u001b[39;00m \u001b[38;5;28;01mimport\u001b[39;00m Dataset\n\u001b[1;32m----> 5\u001b[0m \u001b[38;5;28;01mfrom\u001b[39;00m \u001b[38;5;21;01mbaseline_model\u001b[39;00m\u001b[38;5;21;01m.\u001b[39;00m\u001b[38;5;21;01mmodel\u001b[39;00m \u001b[38;5;28;01mimport\u001b[39;00m model_selector\n\u001b[0;32m      6\u001b[0m \u001b[38;5;28;01mfrom\u001b[39;00m \u001b[38;5;21;01mbaseline_model\u001b[39;00m\u001b[38;5;21;01m.\u001b[39;00m\u001b[38;5;21;01mdataset\u001b[39;00m \u001b[38;5;28;01mimport\u001b[39;00m dataset\n",
      "File \u001b[1;32m~\\OneDrive\\SimonCat\\Jupyter\\GitHub\\adversarial-attack\\baseline_model\\model\\model_selector.py:2\u001b[0m\n\u001b[0;32m      1\u001b[0m \u001b[38;5;28;01mfrom\u001b[39;00m \u001b[38;5;21;01mtorch\u001b[39;00m \u001b[38;5;28;01mimport\u001b[39;00m nn\n\u001b[1;32m----> 2\u001b[0m \u001b[38;5;28;01mfrom\u001b[39;00m \u001b[38;5;21;01mtorchvision\u001b[39;00m\u001b[38;5;21;01m.\u001b[39;00m\u001b[38;5;21;01mmodels\u001b[39;00m \u001b[38;5;28;01mimport\u001b[39;00m resnet18, ResNet18_Weights, ResNet50_Weights, resnet50, ResNet101_Weights, resnet101, \\\n\u001b[0;32m      3\u001b[0m     resnet152, ResNet152_Weights, ResNet34_Weights, resnet34\n\u001b[0;32m      5\u001b[0m \u001b[38;5;28;01mfrom\u001b[39;00m \u001b[38;5;21;01m.\u001b[39;00m\u001b[38;5;21;01mresnet\u001b[39;00m \u001b[38;5;28;01mimport\u001b[39;00m ResNet, Bottleneck, BasicBlock\n\u001b[0;32m      8\u001b[0m \u001b[38;5;28;01mdef\u001b[39;00m \u001b[38;5;21mget_default_resnet\u001b[39m(layers: \u001b[38;5;28mint\u001b[39m \u001b[38;5;241m=\u001b[39m \u001b[38;5;241m18\u001b[39m, num_classes: \u001b[38;5;28mint\u001b[39m \u001b[38;5;241m=\u001b[39m \u001b[38;5;241m10\u001b[39m, pretrain: \u001b[38;5;28mbool\u001b[39m \u001b[38;5;241m=\u001b[39m \u001b[38;5;28;01mTrue\u001b[39;00m) \u001b[38;5;241m-\u001b[39m\u001b[38;5;241m>\u001b[39m nn\u001b[38;5;241m.\u001b[39mModule:\n",
      "\u001b[1;31mModuleNotFoundError\u001b[0m: No module named 'torchvision'"
     ]
    }
   ],
   "source": [
    "import torch\n",
    "from torch.nn import Module\n",
    "from torch.utils.data import Dataset\n",
    "\n",
    "from baseline_model.model import model_selector\n",
    "from baseline_model.dataset import dataset"
   ]
  },
  {
   "cell_type": "code",
   "execution_count": null,
   "id": "fb1ac0eb-56b3-4ff9-a62b-07d6446274d9",
   "metadata": {},
   "outputs": [],
   "source": [
    "train_set: Dataset = dataset.get_random_cifar10_dataset(is_train=True, download=False)\n",
    "test_set: Dataset = dataset.get_default_cifar10_dataset(is_train=False, download=False)\n",
    "\n",
    "model: Module = model_selector.get_default_resnet(layers=50)\n",
    "device_name = 'cuda' if torch.cuda.is_available() else 'cpu'\n",
    "model = model.to(device_name)\n",
    "\n",
    "checkpoint_model_path = \"./resnet50_Test3.pth\"\n",
    "if device_name == 'cuda':\n",
    "    model = torch.nn.DataParallel(model)\n",
    "    torch.backends.cudnn.benchmark = True\n",
    "if checkpoint_model_path:\n",
    "    print('==> Resuming from checkpoint')\n",
    "    checkpoint = torch.load(checkpoint_model_path)\n",
    "    model.load_state_dict(checkpoint['state_dict'])\n",
    "    if 'param_dict' in checkpoint:\n",
    "        print(\"==> Loaded model: \", checkpoint['param_dict'])"
   ]
  },
  {
   "cell_type": "code",
   "execution_count": null,
   "id": "8b1358cf-3273-496f-ba96-28490863cc44",
   "metadata": {},
   "outputs": [],
   "source": []
  },
  {
   "cell_type": "code",
   "execution_count": null,
   "id": "c01fd2fc-6c84-4fa6-a6aa-9652184ee911",
   "metadata": {},
   "outputs": [],
   "source": []
  },
  {
   "cell_type": "code",
   "execution_count": null,
   "id": "9756cb8b-cf09-490c-85d4-eb8cb588040e",
   "metadata": {},
   "outputs": [],
   "source": []
  }
 ],
 "metadata": {
  "kernelspec": {
   "display_name": "Python 3 (ipykernel)",
   "language": "python",
   "name": "python3"
  },
  "language_info": {
   "codemirror_mode": {
    "name": "ipython",
    "version": 3
   },
   "file_extension": ".py",
   "mimetype": "text/x-python",
   "name": "python",
   "nbconvert_exporter": "python",
   "pygments_lexer": "ipython3",
   "version": "3.11.4"
  }
 },
 "nbformat": 4,
 "nbformat_minor": 5
}
